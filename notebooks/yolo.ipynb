{
 "cells": [
  {
   "cell_type": "code",
   "execution_count": null,
   "metadata": {},
   "outputs": [],
   "source": [
    "%matplotlib inline\n",
    "%load_ext autoreload\n",
    "%autoreload 2"
   ]
  },
  {
   "cell_type": "code",
   "execution_count": null,
   "metadata": {},
   "outputs": [],
   "source": [
    "import torch\n",
    "from src.utils.datasets.ggimages import OpenImage\n",
    "from src.utils.datasets.transform import RandomHorizontalFlip, Resize, Compose, XyToCenter\n",
    "import torchvision.transforms as transforms\n",
    "from src.utils.display.images import imshow, result_show\n",
    "from torch.utils.data import DataLoader\n",
    "from src.utils.datasets.adapter import convert_data\n",
    "import numpy as np\n",
    "from src.network.yolo import Yolo\n",
    "from src.config import VOC_ANCHORS\n",
    "from src.utils.process_boxes import preprocess_true_boxes\n",
    "from src.config import IOU_THRESHOLD, TENSORBOARD_PATH\n",
    "from tensorboardX import SummaryWriter\n",
    "from datetime import datetime\n",
    "import time\n",
    "from torch.optim import SGD, RMSprop, Adam\n",
    "from torch.optim.lr_scheduler import StepLR\n",
    "from src.utils.evaluate.metter import AverageMeter\n",
    "\n",
    "\n",
    "\n",
    "\n",
    "general_transform = Compose([\n",
    "    Resize((448, 448)),\n",
    "    RandomHorizontalFlip(0.3),\n",
    "    XyToCenter()\n",
    "])\n",
    "\n",
    "\n",
    "transform = transforms.Compose([\n",
    "                transforms.RandomChoice([\n",
    "                    transforms.ColorJitter(hue=.3, saturation=.2),\n",
    "                    transforms.RandomGrayscale(p=0.3),\n",
    "                ]),\n",
    "                transforms.ToTensor()\n",
    "            ])\n",
    "\n",
    "\n",
    "val_general_transform = Compose([\n",
    "    Resize((448, 448)),\n",
    "    XyToCenter()\n",
    "])\n",
    "\n",
    "\n",
    "val_transform = transforms.Compose([\n",
    "                transforms.ToTensor()\n",
    "            ])"
   ]
  },
  {
   "cell_type": "code",
   "execution_count": null,
   "metadata": {},
   "outputs": [],
   "source": [
    "batch_size = 48\n",
    "\n",
    "ds = OpenImage('/data/data/SmallDataset/', 'train', general_transform=general_transform, transform=transform)\n",
    "ds_val = OpenImage('/data/data/SmallDataset/', 'validation', general_transform=val_general_transform, transform=val_transform)\n",
    "\n",
    "\n",
    "train_data_loader = DataLoader(ds, batch_size=batch_size, shuffle=True, collate_fn=convert_data, num_workers=4, drop_last=True)\n",
    "val_data_loader = DataLoader(ds_val, batch_size=batch_size , shuffle=True, collate_fn=convert_data, num_workers=4, drop_last=True)\n",
    "\n",
    "print(ds.classes)\n",
    "print(len(ds))\n",
    "print(ds_val.classes)"
   ]
  },
  {
   "cell_type": "code",
   "execution_count": null,
   "metadata": {},
   "outputs": [],
   "source": [
    "model = Yolo(VOC_ANCHORS, ds.classes)\n",
    "model.cuda()\n",
    "model.train()"
   ]
  },
  {
   "cell_type": "code",
   "execution_count": null,
   "metadata": {},
   "outputs": [],
   "source": [
    "# optimizer = SGD(model.parameters(), lr = 0.0001, momentum=0.9)\n",
    "optimizer = RMSprop(model.parameters(), lr=1e-5, momentum=0.9, weight_decay=0.005)\n",
    "# optimizer = optim.Adam(model.parameters(), lr = 0.0001, weight_decay=0.00005)\n",
    "exp_lr_scheduler = StepLR(optimizer, step_size=1000, gamma=0.9)"
   ]
  },
  {
   "cell_type": "code",
   "execution_count": null,
   "metadata": {},
   "outputs": [],
   "source": [
    "def val(data_val_gen ,model):\n",
    "    val_loss = AverageMeter()\n",
    "    with torch.no_grad():\n",
    "        model.eval()\n",
    "        for step, blobs in enumerate(data_val_gen):\n",
    "            batch_tensor, batch_boxes, detectors_mask, matching_true_boxes, im_info, img_name = blobs\n",
    "            batch_tensor = batch_tensor.to(torch.device('cuda'))\n",
    "            detectors_mask = detectors_mask.to(torch.device('cuda'))\n",
    "            matching_true_boxes = matching_true_boxes.to(torch.device('cuda'))\n",
    "            batch_boxes = batch_boxes.to(torch.device('cuda'))\n",
    "            output = model(batch_tensor)\n",
    "            loss = model.loss(output, batch_boxes, detectors_mask, matching_true_boxes)\n",
    "            val_loss.update(loss.item())\n",
    "    return val_loss"
   ]
  },
  {
   "cell_type": "code",
   "execution_count": null,
   "metadata": {
    "lines_to_next_cell": 2
   },
   "outputs": [],
   "source": [
    "def train(data_gen, data_val_gen ,model, metters, optimizer, lr_scheduler, tensorboard_writer, current_epoch=0):\n",
    "    \n",
    "    steps_per_epoch = len(data_gen) \n",
    "    model.train()\n",
    "    train_loss = metters\n",
    "    start_time = time.time()\n",
    "\n",
    "    for step, blobs in enumerate(data_gen):\n",
    "        batch_tensor, batch_boxes, detectors_mask, matching_true_boxes, im_info, img_name = blobs\n",
    "        batch_tensor = batch_tensor.to(torch.device('cuda'))\n",
    "        detectors_mask = detectors_mask.to(torch.device('cuda'))\n",
    "        matching_true_boxes = matching_true_boxes.to(torch.device('cuda'))\n",
    "        batch_boxes = batch_boxes.to(torch.device('cuda'))\n",
    "        output = model(batch_tensor)\n",
    "        loss = model.loss(output, batch_boxes, detectors_mask, matching_true_boxes)\n",
    "        optimizer.zero_grad()\n",
    "        loss.backward()\n",
    "        optimizer.step()\n",
    "        lr_scheduler.step()\n",
    "        train_loss.update(loss.item())\n",
    "        del batch_tensor\n",
    "\n",
    "        current_step = current_epoch * steps_per_epoch + step\n",
    "        if step % 100 == 10:\n",
    "            print(\"epochs time %s\" % (time.time() - start_time))\n",
    "            start_time = time.time()\n",
    "            tensorboard_writer.add_scalar(\"loss\", train_loss.avg, (current_epoch * steps_per_epoch) + step)\n",
    "            log_text = 'epoch: %d : step %d,  loss: %.4f at %s' % (\n",
    "                current_epoch + 1, step , train_loss.avg, datetime.now().strftime('%m/%d_%H:%M'))\n",
    "            print(log_text)\n",
    "            \n",
    "\n",
    "        if step % 500 == 10:\n",
    "            print(\"Validate\")\n",
    "            val_loss = val(data_val_gen, model)\n",
    "            log_text = 'epoch: %d : step %d,  val_loss: %.4f at %s' % (\n",
    "                current_epoch + 1, step , val_loss.avg, datetime.now().strftime('%m/%d_%H:%M'))\n",
    "            print(log_text)\n",
    "            tensorboard_writer.add_scalar(\"val_loss\", val_loss.avg, (current_epoch * steps_per_epoch) + step)"
   ]
  },
  {
   "cell_type": "code",
   "execution_count": null,
   "metadata": {},
   "outputs": [],
   "source": [
    "writer = SummaryWriter(\"%s/%s_rms_0.005_with_aug\" % (TENSORBOARD_PATH , datetime.now().strftime('%m/%d_%H:%M')))\n",
    "train_loss = AverageMeter()\n",
    "for i in range(20):\n",
    "    train(train_data_loader, val_data_loader ,model, train_loss, optimizer, exp_lr_scheduler, writer,i)\n",
    "    torch.save(model.state_dict(), './save_model/model_%s.pth' % i)"
   ]
  },
  {
   "cell_type": "code",
   "execution_count": null,
   "metadata": {},
   "outputs": [],
   "source": [
    "torch.save(model.state_dict(), './model.pth')"
   ]
  },
  {
   "cell_type": "code",
   "execution_count": null,
   "metadata": {},
   "outputs": [],
   "source": [
    "from src.utils.display.images import imshow, result_show\n",
    "for k in range(batch_tensor.shape[0]):\n",
    "    current_im_info = im_info[k]\n",
    "    tmp = batch_boxes[k] * torch.Tensor([current_im_info[0], current_im_info[1], current_im_info[0], current_im_info[1], 1])\n",
    "    tmp = tmp.numpy()        \n",
    "    between = tmp[:, 2:4] / 2        \n",
    "    xy = tmp[:, :2]\n",
    "    xy_min = xy - between\n",
    "    xy_max = xy + between\n",
    "    print(np.hstack((xy_min, xy_max)))\n",
    "    imshow(batch_tensor[k], gt_boxes=np.hstack((xy_min, xy_max)))\n",
    "    break"
   ]
  },
  {
   "cell_type": "code",
   "execution_count": null,
   "metadata": {},
   "outputs": [],
   "source": [
    "model.train()\n",
    "batch_tensor = batch_tensor.to(torch.device('cuda'))\n",
    "detectors_mask = detectors_mask.to(torch.device('cuda'))\n",
    "matching_true_boxes = matching_true_boxes.to(torch.device('cuda'))\n",
    "batch_boxes = batch_boxes.to(torch.device('cuda'))\n",
    "\n",
    "output = model(batch_tensor)\n",
    "loss = model.loss(output, batch_boxes, detectors_mask, matching_true_boxes)\n",
    "print(loss.item())"
   ]
  },
  {
   "cell_type": "code",
   "execution_count": null,
   "metadata": {},
   "outputs": [],
   "source": [
    "model.train()\n",
    "boxes, scores, classes = model.predict(batch_tensor)"
   ]
  },
  {
   "cell_type": "code",
   "execution_count": null,
   "metadata": {},
   "outputs": [],
   "source": [
    "print(boxes, scores, classes)"
   ]
  },
  {
   "cell_type": "code",
   "execution_count": null,
   "metadata": {},
   "outputs": [],
   "source": [
    "for k in range(batch_tensor.shape[0]):\n",
    "    current_im_info = im_info[k]\n",
    "    tmp = boxes.cpu()\n",
    "    tmp = tmp.detach().numpy()       \n",
    "    imshow(batch_tensor[k].cpu(), gt_boxes=tmp)\n",
    "    break"
   ]
  },
  {
   "cell_type": "code",
   "execution_count": null,
   "metadata": {},
   "outputs": [],
   "source": []
  }
 ],
 "metadata": {
  "jupytext": {
   "formats": "ipynb,py:light"
  },
  "kernelspec": {
   "display_name": "Python 3",
   "language": "python",
   "name": "python3"
  },
  "language_info": {
   "codemirror_mode": {
    "name": "ipython",
    "version": 3
   },
   "file_extension": ".py",
   "mimetype": "text/x-python",
   "name": "python",
   "nbconvert_exporter": "python",
   "pygments_lexer": "ipython3",
   "version": "3.7.3"
  }
 },
 "nbformat": 4,
 "nbformat_minor": 2
}
