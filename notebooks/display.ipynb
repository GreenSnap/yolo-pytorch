{
 "cells": [
  {
   "cell_type": "code",
   "execution_count": null,
   "metadata": {},
   "outputs": [],
   "source": [
    "%matplotlib inline\n",
    "%load_ext autoreload\n",
    "%autoreload 2"
   ]
  },
  {
   "cell_type": "code",
   "execution_count": null,
   "metadata": {},
   "outputs": [],
   "source": [
    "import numpy as np\n",
    "import torch\n",
    "from src.utils.datasets.ggimages import OpenImage\n",
    "from src.utils.datasets.transform import RandomHorizontalFlip, Resize, Compose, XyToCenter\n",
    "import torchvision.transforms as transforms\n",
    "from src.utils.display.images import imshow, result_show\n",
    "from torch.utils.data import DataLoader\n",
    "from src.utils.datasets.adapter import convert_data\n",
    "\n",
    "from src.network.yolo import Yolo\n",
    "\n",
    "general_transform = Compose([\n",
    "    Resize((608, 608)),\n",
    "    RandomHorizontalFlip(0.5),\n",
    "    XyToCenter()\n",
    "])\n",
    "\n",
    "\n",
    "transform = transforms.Compose([\n",
    "                transforms.RandomChoice([\n",
    "                    transforms.ColorJitter(hue=.3, saturation=.2),\n",
    "                    transforms.RandomGrayscale(p=0.3),\n",
    "                ]),\n",
    "                transforms.ToTensor(),\n",
    "                transforms.Normalize([0.485, 0.456, 0.406], [\n",
    "                                     0.229, 0.224, 0.225])\n",
    "            ])"
   ]
  },
  {
   "cell_type": "code",
   "execution_count": null,
   "metadata": {},
   "outputs": [],
   "source": [
    "batch_size = 4\n",
    "\n",
    "ds = OpenImage('/data/data/SmallDataset/', 'train', general_transform=general_transform, transform=transform)\n",
    "\n",
    "train_data_loader = DataLoader(ds, batch_size=batch_size, shuffle=True, collate_fn=convert_data, num_workers=0)"
   ]
  },
  {
   "cell_type": "code",
   "execution_count": null,
   "metadata": {},
   "outputs": [],
   "source": [
    "ds.classes"
   ]
  },
  {
   "cell_type": "code",
   "execution_count": null,
   "metadata": {},
   "outputs": [],
   "source": [
    "for i, data in enumerate(train_data_loader):\n",
    "    if not data:\n",
    "        continue\n",
    "    if i > 3:\n",
    "        break\n",
    "    batch_tensor, batch_boxes, detectors_mask, matching_true_boxes, im_info, img_names = data\n",
    "    #     print batch_boxes.shape\n",
    "    for k in range(batch_tensor.shape[0]):\n",
    "        current_im_info = im_info[0]\n",
    "        tmp = batch_boxes[k] * torch.Tensor([current_im_info[0], current_im_info[1], current_im_info[0], current_im_info[1], 1])\n",
    "        tmp = tmp.numpy()        \n",
    "        between = tmp[:, 2:4] / 2        \n",
    "        xy = tmp[:, :2]\n",
    "        xy_min = xy - between\n",
    "        xy_max = xy + between\n",
    "        imshow(batch_tensor[k], gt_boxes=np.hstack((xy_min, xy_max)))"
   ]
  },
  {
   "cell_type": "code",
   "execution_count": null,
   "metadata": {},
   "outputs": [],
   "source": []
  }
 ],
 "metadata": {
  "kernelspec": {
   "display_name": "Python 3",
   "language": "python",
   "name": "python3"
  },
  "language_info": {
   "codemirror_mode": {
    "name": "ipython",
    "version": 3
   },
   "file_extension": ".py",
   "mimetype": "text/x-python",
   "name": "python",
   "nbconvert_exporter": "python",
   "pygments_lexer": "ipython3",
   "version": "3.7.3"
  }
 },
 "nbformat": 4,
 "nbformat_minor": 2
}
