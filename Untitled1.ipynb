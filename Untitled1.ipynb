{
 "cells": [
  {
   "cell_type": "code",
   "execution_count": 1,
   "metadata": {},
   "outputs": [],
   "source": [
    "%matplotlib inline\n",
    "%load_ext autoreload\n",
    "%autoreload 2"
   ]
  },
  {
   "cell_type": "code",
   "execution_count": 2,
   "metadata": {},
   "outputs": [],
   "source": [
    "from src.utils.datasets.ggimages import OpenImage\n",
    "from src.utils.datasets.transform import RandomHorizontalFlip, Resize, Compose, XyToCenter\n",
    "import torchvision.transforms as transforms\n",
    "from src.utils.display.images import imshow, result_show\n",
    "from torch.utils.data import DataLoader\n",
    "from src.utils.datasets.adapter import convert_data\n",
    "import numpy as np\n",
    "import torch\n",
    "from src.network.yolo import Yolo\n",
    "from src.config import VOC_ANCHORS\n",
    "from src.utils.cython_lib.process_boxes import preprocess_true_boxes\n",
    "\n",
    "general_transform = Compose([\n",
    "    Resize((608, 608)),\n",
    "    XyToCenter()\n",
    "])\n",
    "\n",
    "\n",
    "transform = transforms.Compose([\n",
    "                transforms.RandomChoice([\n",
    "                    transforms.ColorJitter(hue=.1, saturation=.1),\n",
    "                    transforms.RandomGrayscale(p=0.7),\n",
    "                ]),\n",
    "                transforms.ToTensor(),\n",
    "                transforms.Normalize([0.485, 0.456, 0.406], [\n",
    "                                     0.229, 0.224, 0.225])\n",
    "            ])"
   ]
  },
  {
   "cell_type": "code",
   "execution_count": 3,
   "metadata": {},
   "outputs": [],
   "source": [
    "batch_size = 1\n",
    "\n",
    "ds = OpenImage('/data/data', 'OpenImage', general_transform=general_transform, transform=transform)\n",
    "\n",
    "train_data_loader = DataLoader(ds, batch_size=batch_size, shuffle=True, collate_fn=convert_data, num_workers=0)\n"
   ]
  },
  {
   "cell_type": "code",
   "execution_count": 4,
   "metadata": {},
   "outputs": [],
   "source": [
    "from src.network.base import DarkNet, DarknetBody, YoloBody\n",
    "\n",
    "model = Yolo(VOC_ANCHORS, ds.classes)"
   ]
  },
  {
   "cell_type": "code",
   "execution_count": 5,
   "metadata": {},
   "outputs": [
    {
     "name": "stdout",
     "output_type": "stream",
     "text": [
      "Yolo(\n",
      "  (yolo_body): YoloBody(\n",
      "    (body_bottom): DarknetBodyBottom(\n",
      "      (first_layer): Conv2d(\n",
      "        (conv): Conv2d(3, 32, kernel_size=(3, 3), stride=(1, 1), padding=(1, 1), bias=False)\n",
      "        (bn): BatchNorm2d(32, eps=0.001, momentum=0, affine=True, track_running_stats=True)\n",
      "        (relu): LeakyReLU(negative_slope=0.1)\n",
      "      )\n",
      "      (second_layer): MaxPool2d(kernel_size=2, stride=2, padding=0, dilation=1, ceil_mode=False)\n",
      "      (third_layer): Conv2d(\n",
      "        (conv): Conv2d(32, 64, kernel_size=(3, 3), stride=(1, 1), padding=(1, 1), bias=False)\n",
      "        (bn): BatchNorm2d(64, eps=0.001, momentum=0, affine=True, track_running_stats=True)\n",
      "        (relu): LeakyReLU(negative_slope=0.1)\n",
      "      )\n",
      "      (forth_layer): MaxPool2d(kernel_size=2, stride=2, padding=0, dilation=1, ceil_mode=False)\n",
      "      (fifth_layer): BottleneckBlock(\n",
      "        (first_layer): Conv2d(\n",
      "          (conv): Conv2d(64, 128, kernel_size=(3, 3), stride=(1, 1), padding=(1, 1), bias=False)\n",
      "          (bn): BatchNorm2d(128, eps=0.001, momentum=0, affine=True, track_running_stats=True)\n",
      "          (relu): LeakyReLU(negative_slope=0.1)\n",
      "        )\n",
      "        (second_layer): Conv2d(\n",
      "          (conv): Conv2d(128, 64, kernel_size=(1, 1), stride=(1, 1), bias=False)\n",
      "          (bn): BatchNorm2d(64, eps=0.001, momentum=0, affine=True, track_running_stats=True)\n",
      "          (relu): LeakyReLU(negative_slope=0.1)\n",
      "        )\n",
      "        (third_layer): Conv2d(\n",
      "          (conv): Conv2d(64, 128, kernel_size=(3, 3), stride=(1, 1), padding=(1, 1), bias=False)\n",
      "          (bn): BatchNorm2d(128, eps=0.001, momentum=0, affine=True, track_running_stats=True)\n",
      "          (relu): LeakyReLU(negative_slope=0.1)\n",
      "        )\n",
      "      )\n",
      "      (sixth_layer): MaxPool2d(kernel_size=2, stride=2, padding=0, dilation=1, ceil_mode=False)\n",
      "      (seventh_layer): BottleneckBlock(\n",
      "        (first_layer): Conv2d(\n",
      "          (conv): Conv2d(128, 256, kernel_size=(3, 3), stride=(1, 1), padding=(1, 1), bias=False)\n",
      "          (bn): BatchNorm2d(256, eps=0.001, momentum=0, affine=True, track_running_stats=True)\n",
      "          (relu): LeakyReLU(negative_slope=0.1)\n",
      "        )\n",
      "        (second_layer): Conv2d(\n",
      "          (conv): Conv2d(256, 128, kernel_size=(1, 1), stride=(1, 1), bias=False)\n",
      "          (bn): BatchNorm2d(128, eps=0.001, momentum=0, affine=True, track_running_stats=True)\n",
      "          (relu): LeakyReLU(negative_slope=0.1)\n",
      "        )\n",
      "        (third_layer): Conv2d(\n",
      "          (conv): Conv2d(128, 256, kernel_size=(3, 3), stride=(1, 1), padding=(1, 1), bias=False)\n",
      "          (bn): BatchNorm2d(256, eps=0.001, momentum=0, affine=True, track_running_stats=True)\n",
      "          (relu): LeakyReLU(negative_slope=0.1)\n",
      "        )\n",
      "      )\n",
      "      (eighth_layer): MaxPool2d(kernel_size=2, stride=2, padding=0, dilation=1, ceil_mode=False)\n",
      "      (nineth_layer): DoubleBottleneckBlock(\n",
      "        (first_layer): BottleneckBlock(\n",
      "          (first_layer): Conv2d(\n",
      "            (conv): Conv2d(256, 512, kernel_size=(3, 3), stride=(1, 1), padding=(1, 1), bias=False)\n",
      "            (bn): BatchNorm2d(512, eps=0.001, momentum=0, affine=True, track_running_stats=True)\n",
      "            (relu): LeakyReLU(negative_slope=0.1)\n",
      "          )\n",
      "          (second_layer): Conv2d(\n",
      "            (conv): Conv2d(512, 256, kernel_size=(1, 1), stride=(1, 1), bias=False)\n",
      "            (bn): BatchNorm2d(256, eps=0.001, momentum=0, affine=True, track_running_stats=True)\n",
      "            (relu): LeakyReLU(negative_slope=0.1)\n",
      "          )\n",
      "          (third_layer): Conv2d(\n",
      "            (conv): Conv2d(256, 512, kernel_size=(3, 3), stride=(1, 1), padding=(1, 1), bias=False)\n",
      "            (bn): BatchNorm2d(512, eps=0.001, momentum=0, affine=True, track_running_stats=True)\n",
      "            (relu): LeakyReLU(negative_slope=0.1)\n",
      "          )\n",
      "        )\n",
      "        (second_layer): Conv2d(\n",
      "          (conv): Conv2d(512, 256, kernel_size=(1, 1), stride=(1, 1), bias=False)\n",
      "          (bn): BatchNorm2d(256, eps=0.001, momentum=0, affine=True, track_running_stats=True)\n",
      "          (relu): LeakyReLU(negative_slope=0.1)\n",
      "        )\n",
      "        (third_layer): Conv2d(\n",
      "          (conv): Conv2d(256, 512, kernel_size=(3, 3), stride=(1, 1), padding=(1, 1), bias=False)\n",
      "          (bn): BatchNorm2d(512, eps=0.001, momentum=0, affine=True, track_running_stats=True)\n",
      "          (relu): LeakyReLU(negative_slope=0.1)\n",
      "        )\n",
      "      )\n",
      "    )\n",
      "    (body_head): DarknetBodyHead(\n",
      "      (tenth_layer): MaxPool2d(kernel_size=2, stride=2, padding=0, dilation=1, ceil_mode=False)\n",
      "      (eleventh_layer): DoubleBottleneckBlock(\n",
      "        (first_layer): BottleneckBlock(\n",
      "          (first_layer): Conv2d(\n",
      "            (conv): Conv2d(512, 1024, kernel_size=(3, 3), stride=(1, 1), padding=(1, 1), bias=False)\n",
      "            (bn): BatchNorm2d(1024, eps=0.001, momentum=0, affine=True, track_running_stats=True)\n",
      "            (relu): LeakyReLU(negative_slope=0.1)\n",
      "          )\n",
      "          (second_layer): Conv2d(\n",
      "            (conv): Conv2d(1024, 512, kernel_size=(1, 1), stride=(1, 1), bias=False)\n",
      "            (bn): BatchNorm2d(512, eps=0.001, momentum=0, affine=True, track_running_stats=True)\n",
      "            (relu): LeakyReLU(negative_slope=0.1)\n",
      "          )\n",
      "          (third_layer): Conv2d(\n",
      "            (conv): Conv2d(512, 1024, kernel_size=(3, 3), stride=(1, 1), padding=(1, 1), bias=False)\n",
      "            (bn): BatchNorm2d(1024, eps=0.001, momentum=0, affine=True, track_running_stats=True)\n",
      "            (relu): LeakyReLU(negative_slope=0.1)\n",
      "          )\n",
      "        )\n",
      "        (second_layer): Conv2d(\n",
      "          (conv): Conv2d(1024, 512, kernel_size=(1, 1), stride=(1, 1), bias=False)\n",
      "          (bn): BatchNorm2d(512, eps=0.001, momentum=0, affine=True, track_running_stats=True)\n",
      "          (relu): LeakyReLU(negative_slope=0.1)\n",
      "        )\n",
      "        (third_layer): Conv2d(\n",
      "          (conv): Conv2d(512, 1024, kernel_size=(3, 3), stride=(1, 1), padding=(1, 1), bias=False)\n",
      "          (bn): BatchNorm2d(1024, eps=0.001, momentum=0, affine=True, track_running_stats=True)\n",
      "          (relu): LeakyReLU(negative_slope=0.1)\n",
      "        )\n",
      "      )\n",
      "    )\n",
      "    (first_layer): Conv2d(\n",
      "      (conv): Conv2d(1024, 1024, kernel_size=(3, 3), stride=(1, 1), padding=(1, 1), bias=False)\n",
      "      (bn): BatchNorm2d(1024, eps=0.001, momentum=0, affine=True, track_running_stats=True)\n",
      "      (relu): LeakyReLU(negative_slope=0.1)\n",
      "    )\n",
      "    (second_layer): Conv2d(\n",
      "      (conv): Conv2d(1024, 1024, kernel_size=(3, 3), stride=(1, 1), padding=(1, 1), bias=False)\n",
      "      (bn): BatchNorm2d(1024, eps=0.001, momentum=0, affine=True, track_running_stats=True)\n",
      "      (relu): LeakyReLU(negative_slope=0.1)\n",
      "    )\n",
      "    (find_grain): Conv2d(\n",
      "      (conv): Conv2d(512, 64, kernel_size=(1, 1), stride=(1, 1), bias=False)\n",
      "      (bn): BatchNorm2d(64, eps=0.001, momentum=0, affine=True, track_running_stats=True)\n",
      "      (relu): LeakyReLU(negative_slope=0.1)\n",
      "    )\n",
      "    (re_org): Reorg()\n",
      "    (after_concat): Conv2d(\n",
      "      (conv): Conv2d(1280, 1024, kernel_size=(3, 3), stride=(1, 1), padding=(1, 1), bias=False)\n",
      "      (bn): BatchNorm2d(1024, eps=0.001, momentum=0, affine=True, track_running_stats=True)\n",
      "      (relu): LeakyReLU(negative_slope=0.1)\n",
      "    )\n",
      "    (last_layer): Conv2d(1024, 40, kernel_size=(1, 1), stride=(1, 1), bias=False)\n",
      "  )\n",
      "  (yolo_head): YoloHead()\n",
      ")\n"
     ]
    }
   ],
   "source": [
    "print(model)"
   ]
  },
  {
   "cell_type": "code",
   "execution_count": 11,
   "metadata": {},
   "outputs": [],
   "source": [
    "data = next(iter(train_data_loader))\n",
    "batch_tensor, im_info, batch_boxes, batch_boxes_index, img_names = data\n",
    "\n",
    "\n",
    "detectors_mask, matching_true_boxes = preprocess_true_boxes(batch_boxes, VOC_ANCHORS, (608, 608))"
   ]
  },
  {
   "cell_type": "code",
   "execution_count": 12,
   "metadata": {},
   "outputs": [],
   "source": [
    "output = model(batch_tensor)"
   ]
  },
  {
   "cell_type": "code",
   "execution_count": 13,
   "metadata": {},
   "outputs": [],
   "source": [
    "batch_box_tensor = torch.from_numpy(batch_boxes[np.newaxis, :]).type(torch.FloatTensor)\n",
    "\n",
    "detectors_mask_tensor = torch.from_numpy(detectors_mask[np.newaxis, :])\n",
    "matching_true_boxes_tensor = torch.from_numpy(matching_true_boxes[np.newaxis, :])"
   ]
  },
  {
   "cell_type": "code",
   "execution_count": 15,
   "metadata": {},
   "outputs": [
    {
     "name": "stdout",
     "output_type": "stream",
     "text": [
      "torch.Size([1, 5, 1, 19, 19])\n",
      "torch.Size([1, 5, 1, 19, 19])\n",
      "torch.Size([1, 5, 1, 19, 19])\n"
     ]
    }
   ],
   "source": [
    "model.loss(output, batch_box_tensor, detectors_mask_tensor, matching_true_boxes_tensor)"
   ]
  },
  {
   "cell_type": "code",
   "execution_count": 46,
   "metadata": {},
   "outputs": [],
   "source": [
    "a = torch.randn(4, 2, 4).clamp(min=0)"
   ]
  },
  {
   "cell_type": "code",
   "execution_count": 47,
   "metadata": {},
   "outputs": [
    {
     "data": {
      "text/plain": [
       "tensor([[[0.0000, 0.7092, 0.0000, 0.1829],\n",
       "         [0.0000, 0.0000, 0.7876, 0.3617]],\n",
       "\n",
       "        [[0.6430, 0.0000, 0.7255, 0.0000],\n",
       "         [0.0000, 0.0000, 0.8688, 0.4494]],\n",
       "\n",
       "        [[0.2596, 0.4518, 0.0000, 0.0000],\n",
       "         [0.0000, 0.0000, 1.7309, 0.0000]],\n",
       "\n",
       "        [[0.0000, 0.0000, 0.1497, 0.0000],\n",
       "         [0.9055, 1.3137, 0.2129, 0.4665]]])"
      ]
     },
     "execution_count": 47,
     "metadata": {},
     "output_type": "execute_result"
    }
   ],
   "source": [
    "a"
   ]
  },
  {
   "cell_type": "code",
   "execution_count": 49,
   "metadata": {},
   "outputs": [],
   "source": [
    "best_iou, best_iou_index = a.max(dim=1, keepdim=True)"
   ]
  },
  {
   "cell_type": "code",
   "execution_count": 53,
   "metadata": {},
   "outputs": [
    {
     "data": {
      "text/plain": [
       "tensor([[[0., 1., 1., 0.]],\n",
       "\n",
       "        [[1., 0., 1., 0.]],\n",
       "\n",
       "        [[0., 0., 1., 0.]],\n",
       "\n",
       "        [[1., 1., 0., 0.]]])"
      ]
     },
     "execution_count": 53,
     "metadata": {},
     "output_type": "execute_result"
    }
   ],
   "source": [
    "(best_iou > 0.5).type(torch.FloatTensor)"
   ]
  },
  {
   "cell_type": "code",
   "execution_count": null,
   "metadata": {},
   "outputs": [],
   "source": [
    "\n"
   ]
  }
 ],
 "metadata": {
  "kernelspec": {
   "display_name": "Python 3",
   "language": "python",
   "name": "python3"
  },
  "language_info": {
   "codemirror_mode": {
    "name": "ipython",
    "version": 3
   },
   "file_extension": ".py",
   "mimetype": "text/x-python",
   "name": "python",
   "nbconvert_exporter": "python",
   "pygments_lexer": "ipython3",
   "version": "3.7.2"
  }
 },
 "nbformat": 4,
 "nbformat_minor": 2
}
